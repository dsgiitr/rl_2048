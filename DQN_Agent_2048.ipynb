{
 "cells": [
  {
   "cell_type": "code",
   "execution_count": 1,
   "metadata": {},
   "outputs": [],
   "source": [
    "import gym\n",
    "from gym import spaces\n",
    "from gym.utils import seeding\n",
    "import itertools\n",
    "import logging\n",
    "import numpy as np\n",
    "from collections import deque\n",
    "import itertools"
   ]
  },
  {
   "cell_type": "code",
   "execution_count": 7,
   "metadata": {},
   "outputs": [],
   "source": [
    "from tensorflow import keras\n",
    "from tensorflow.keras.models import Sequential\n",
    "from tensorflow.keras.layers import Dense,Dropout,Flatten\n",
    "from tensorflow.keras.optimizers import Adam\n",
    "from tensorflow.keras import layers"
   ]
  },
  {
   "cell_type": "code",
   "execution_count": 8,
   "metadata": {},
   "outputs": [],
   "source": [
    "#Importing the Game Board\n",
    "from Game_Board import*\n",
    "max_tile=[]"
   ]
  },
  {
   "cell_type": "code",
   "execution_count": 9,
   "metadata": {},
   "outputs": [],
   "source": [
    "#Converting observations in range (0,1) using log(n)/log(max) so that gradients don't vanish\n",
    "def process_log(observation):\n",
    "        observation = np.reshape(observation, (4, 4))\n",
    "        observation_temp = np.where(observation <= 0, 1, observation) \n",
    "        processed_observation = np.log2(observation_temp)/np.log2(65536)\n",
    "        return processed_observation.reshape(1,4,4)"
   ]
  },
  {
   "cell_type": "code",
   "execution_count": 10,
   "metadata": {},
   "outputs": [],
   "source": [
    "def get_grids_next_step(grid):\n",
    "        #Returns the next 4 states s' from the current state s\n",
    "        \n",
    "        grids_list = []\n",
    "        \n",
    "        for movement in range(4):\n",
    "            grid_before = grid.copy()\n",
    "            env1=Game2048Env()\n",
    "            env1.set_board(grid_before)\n",
    "            try:\n",
    "                _= env1.move(movement) \n",
    "            except:\n",
    "                pass\n",
    "            grid_after =env1.get_board()\n",
    "            env1.get_board()\n",
    "            grids_list.append(grid_after)\n",
    "            \n",
    "        return grids_list"
   ]
  },
  {
   "cell_type": "code",
   "execution_count": 11,
   "metadata": {},
   "outputs": [],
   "source": [
    "class DQN:\n",
    "    def __init__(self,env):\n",
    "        #Defining the hyperparameters for the model\n",
    "        self.env=env.get_board()\n",
    "        #The replay memory will be stored in a Deque\n",
    "        self.memory=deque(maxlen=2000)\n",
    "        self.gamma=0.90\n",
    "        self.epsilon=1.0\n",
    "        self.epsilon_min=0.01\n",
    "        self.epsilon_decay=0.995\n",
    "        self.learning_rate=0.005\n",
    "        self.tau=0.125\n",
    "        #We use 2 models to prevent Bootstrapping\n",
    "        self.model=self.create_model()\n",
    "        self.target_model=self.create_model()\n",
    "        \n",
    "        \n",
    "    def create_model(self):\n",
    "        model=Sequential()\n",
    "        state_shape=4\n",
    "                \n",
    "        model.add(Flatten(input_shape=(4,4)))\n",
    "        model.add(Dense(units=1024,activation=\"relu\"))\n",
    "        model.add(Dense(units=512,activation=\"relu\"))\n",
    "        model.add(Dense(units=256,activation=\"relu\"))\n",
    "        model.add(Dense(units=4))\n",
    "        model.compile(loss=\"mean_squared_error\",optimizer=Adam(lr=self.learning_rate))\n",
    "        print(model.summary())\n",
    "        return model\n",
    "                  \n",
    "    def act(self,state):\n",
    "        #Epsilon value decays as model gains experience\n",
    "        self.epsilon*=self.epsilon_decay\n",
    "        self.epsilon=max(self.epsilon_min,self.epsilon)\n",
    "        if np.random.random()<self.epsilon:\n",
    "                  return np.random.randint(0,4)\n",
    "        else:\n",
    "            #Getting the 4 future states\n",
    "            allstates=get_grids_next_step(state)\n",
    "            \n",
    "            res=[]\n",
    "            for i in range(len(allstates)):\n",
    "                if (allstates[i]==state).all():\n",
    "                    res.append(0)\n",
    "                else:\n",
    "                    processed_state=process_log(allstates[i])\n",
    "                    #max from the 4 future Q_Values is appended in res\n",
    "                    res.append(np.max(self.model.predict(processed_state)))\n",
    "            \n",
    "            a=self.model.predict(process_log(state))\n",
    "            #Final Q_Values are the sum of Q_Values of current state andfuture states\n",
    "            final=np.add(a,res)\n",
    "            \n",
    "            return np.argmax(final)\n",
    "    \n",
    "    def remember(self, state, action, reward, new_state, done):\n",
    "        #Replay Memory stores tuple(S, A, R, S')\n",
    "        self.memory.append([state, action, reward, new_state, done])\n",
    "\n",
    "    def replay(self):\n",
    "        batch_size=32\n",
    "        if len(self.memory)<batch_size:\n",
    "            return\n",
    "        samples=random.sample(self.memory,batch_size)\n",
    "        for sample in samples:\n",
    "            \n",
    "            state,action,reward,new_state,done=sample\n",
    "            \n",
    "            target=self.target_model.predict(process_log(state))\n",
    "            \n",
    "            \n",
    "            if done:\n",
    "                target[0][action]=reward\n",
    "            else:\n",
    "                #Bellman Equation for update\n",
    "                Q_future=max(self.target_model.predict(process_log(new_state))[0])\n",
    "                \n",
    "                #The move which was selected, its Q_Value gets updated\n",
    "                target[0][action]=reward+Q_future*self.gamma\n",
    "            self.model.fit((process_log(state)),target,epochs=1,verbose=0)\n",
    "                  \n",
    "                  \n",
    "    def target_train(self):\n",
    "        weights=self.model.get_weights()\n",
    "        target_weights=self.target_model.get_weights()\n",
    "        for i in range(len(target_weights)):\n",
    "            target_weights[i]=weights[i]*self.tau+target_weights[i]*(1-self.tau)\n",
    "        self.target_model.set_weights(target_weights)\n",
    "                  \n",
    "                  \n",
    "    def save_model(self,fn):\n",
    "        self.model.save(fn)\n",
    "                  \n",
    "                  \n"
   ]
  },
  {
   "cell_type": "code",
   "execution_count": null,
   "metadata": {},
   "outputs": [
    {
     "name": "stdout",
     "output_type": "stream",
     "text": [
      "Model: \"sequential\"\n",
      "_________________________________________________________________\n",
      "Layer (type)                 Output Shape              Param #   \n",
      "=================================================================\n",
      "flatten (Flatten)            (None, 16)                0         \n",
      "_________________________________________________________________\n",
      "dense (Dense)                (None, 1024)              17408     \n",
      "_________________________________________________________________\n",
      "dense_1 (Dense)              (None, 512)               524800    \n",
      "_________________________________________________________________\n",
      "dense_2 (Dense)              (None, 256)               131328    \n",
      "_________________________________________________________________\n",
      "dense_3 (Dense)              (None, 4)                 1028      \n",
      "=================================================================\n",
      "Total params: 674,564\n",
      "Trainable params: 674,564\n",
      "Non-trainable params: 0\n",
      "_________________________________________________________________\n",
      "None\n",
      "Model: \"sequential_1\"\n",
      "_________________________________________________________________\n",
      "Layer (type)                 Output Shape              Param #   \n",
      "=================================================================\n",
      "flatten_1 (Flatten)          (None, 16)                0         \n",
      "_________________________________________________________________\n",
      "dense_4 (Dense)              (None, 1024)              17408     \n",
      "_________________________________________________________________\n",
      "dense_5 (Dense)              (None, 512)               524800    \n",
      "_________________________________________________________________\n",
      "dense_6 (Dense)              (None, 256)               131328    \n",
      "_________________________________________________________________\n",
      "dense_7 (Dense)              (None, 4)                 1028      \n",
      "=================================================================\n",
      "Total params: 674,564\n",
      "Trainable params: 674,564\n",
      "Non-trainable params: 0\n",
      "_________________________________________________________________\n",
      "None\n",
      "WARNING:tensorflow:AutoGraph could not transform <function Model.make_predict_function.<locals>.predict_function at 0x17ec41550> and will run it as-is.\n",
      "Please report this to the TensorFlow team. When filing the bug, set the verbosity to 10 (on Linux, `export AUTOGRAPH_VERBOSITY=10`) and attach the full output.\n",
      "Cause: unsupported operand type(s) for -: 'NoneType' and 'int'\n",
      "To silence this warning, decorate the function with @tf.autograph.experimental.do_not_convert\n"
     ]
    },
    {
     "name": "stderr",
     "output_type": "stream",
     "text": [
      "2021-10-03 14:51:59.293743: I tensorflow/compiler/mlir/mlir_graph_optimization_pass.cc:116] None of the MLIR optimization passes are enabled (registered 2)\n",
      "2021-10-03 14:51:59.294251: W tensorflow/core/platform/profile_utils/cpu_utils.cc:126] Failed to get CPU frequency: 0 Hz\n",
      "WARNING:tensorflow:AutoGraph could not transform <function Model.make_predict_function.<locals>.predict_function at 0x17ec41550> and will run it as-is.\n",
      "Please report this to the TensorFlow team. When filing the bug, set the verbosity to 10 (on Linux, `export AUTOGRAPH_VERBOSITY=10`) and attach the full output.\n",
      "Cause: unsupported operand type(s) for -: 'NoneType' and 'int'\n",
      "To silence this warning, decorate the function with @tf.autograph.experimental.do_not_convert\n"
     ]
    },
    {
     "name": "stdout",
     "output_type": "stream",
     "text": [
      "WARNING: AutoGraph could not transform <function Model.make_predict_function.<locals>.predict_function at 0x17ec41550> and will run it as-is.\n",
      "Please report this to the TensorFlow team. When filing the bug, set the verbosity to 10 (on Linux, `export AUTOGRAPH_VERBOSITY=10`) and attach the full output.\n",
      "Cause: unsupported operand type(s) for -: 'NoneType' and 'int'\n",
      "To silence this warning, decorate the function with @tf.autograph.experimental.do_not_convert\n",
      "WARNING:tensorflow:AutoGraph could not transform <function Model.make_predict_function.<locals>.predict_function at 0x2934729d0> and will run it as-is.\n",
      "Please report this to the TensorFlow team. When filing the bug, set the verbosity to 10 (on Linux, `export AUTOGRAPH_VERBOSITY=10`) and attach the full output.\n",
      "Cause: unsupported operand type(s) for -: 'NoneType' and 'int'\n",
      "To silence this warning, decorate the function with @tf.autograph.experimental.do_not_convert\n"
     ]
    },
    {
     "name": "stderr",
     "output_type": "stream",
     "text": [
      "WARNING:tensorflow:AutoGraph could not transform <function Model.make_predict_function.<locals>.predict_function at 0x2934729d0> and will run it as-is.\n",
      "Please report this to the TensorFlow team. When filing the bug, set the verbosity to 10 (on Linux, `export AUTOGRAPH_VERBOSITY=10`) and attach the full output.\n",
      "Cause: unsupported operand type(s) for -: 'NoneType' and 'int'\n",
      "To silence this warning, decorate the function with @tf.autograph.experimental.do_not_convert\n"
     ]
    },
    {
     "name": "stdout",
     "output_type": "stream",
     "text": [
      "WARNING: AutoGraph could not transform <function Model.make_predict_function.<locals>.predict_function at 0x2934729d0> and will run it as-is.\n",
      "Please report this to the TensorFlow team. When filing the bug, set the verbosity to 10 (on Linux, `export AUTOGRAPH_VERBOSITY=10`) and attach the full output.\n",
      "Cause: unsupported operand type(s) for -: 'NoneType' and 'int'\n",
      "To silence this warning, decorate the function with @tf.autograph.experimental.do_not_convert\n",
      "WARNING:tensorflow:AutoGraph could not transform <function Model.make_train_function.<locals>.train_function at 0x29371e820> and will run it as-is.\n",
      "Please report this to the TensorFlow team. When filing the bug, set the verbosity to 10 (on Linux, `export AUTOGRAPH_VERBOSITY=10`) and attach the full output.\n",
      "Cause: unsupported operand type(s) for -: 'NoneType' and 'int'\n",
      "To silence this warning, decorate the function with @tf.autograph.experimental.do_not_convert\n"
     ]
    },
    {
     "name": "stderr",
     "output_type": "stream",
     "text": [
      "WARNING:tensorflow:AutoGraph could not transform <function Model.make_train_function.<locals>.train_function at 0x29371e820> and will run it as-is.\n",
      "Please report this to the TensorFlow team. When filing the bug, set the verbosity to 10 (on Linux, `export AUTOGRAPH_VERBOSITY=10`) and attach the full output.\n",
      "Cause: unsupported operand type(s) for -: 'NoneType' and 'int'\n",
      "To silence this warning, decorate the function with @tf.autograph.experimental.do_not_convert\n"
     ]
    },
    {
     "name": "stdout",
     "output_type": "stream",
     "text": [
      "WARNING: AutoGraph could not transform <function Model.make_train_function.<locals>.train_function at 0x29371e820> and will run it as-is.\n",
      "Please report this to the TensorFlow team. When filing the bug, set the verbosity to 10 (on Linux, `export AUTOGRAPH_VERBOSITY=10`) and attach the full output.\n",
      "Cause: unsupported operand type(s) for -: 'NoneType' and 'int'\n",
      "To silence this warning, decorate the function with @tf.autograph.experimental.do_not_convert\n",
      "Trial number 0 Failed to complete in 500 steps\n",
      "[[  2   4  16   4]\n",
      " [  4   8  64   8]\n",
      " [  8  64 128  16]\n",
      " [ 16   4   8   2]]\n",
      "Trial number 1 Failed to complete in 500 steps\n",
      "[[ 2  4 16  2]\n",
      " [ 8 16  4 16]\n",
      " [16 32  8  2]\n",
      " [ 2  8 32 16]]\n",
      "Trial number 2 Failed to complete in 500 steps\n",
      "[[  4   2   4   2]\n",
      " [ 16 128  32   4]\n",
      " [  8   2   8  64]\n",
      " [  2  16   2   4]]\n",
      "Trial number 3 Failed to complete in 500 steps\n",
      "[[  2   8   4   2]\n",
      " [  8   2  16   4]\n",
      " [ 16  32  64  32]\n",
      " [  2  64 128   4]]\n",
      "Trial number 4 Failed to complete in 500 steps\n",
      "[[ 2  8  2  8]\n",
      " [ 8 16  8 16]\n",
      " [ 2  4 16 32]\n",
      " [ 8 32 64  2]]\n",
      "Trial number 5 Failed to complete in 500 steps\n",
      "[[ 2  4  2  8]\n",
      " [ 4  2 16 32]\n",
      " [16  4 32 64]\n",
      " [ 2 32  2  4]]\n",
      "Trial number 6 Failed to complete in 500 steps\n",
      "[[  2   4   2   4]\n",
      " [  4   8  32  16]\n",
      " [  8  16  64   2]\n",
      " [ 32  64 128 256]]\n"
     ]
    }
   ],
   "source": [
    "\n",
    "def main():\n",
    "    env=Game2048Env()\n",
    "    gamma=0.9\n",
    "    epsilon=0.95\n",
    "    \n",
    "    trials=1000\n",
    "    trial_len=500\n",
    "    dqn_agent=DQN(env=env)\n",
    "    steps=[]\n",
    "    \n",
    "    \n",
    "    \n",
    "    for trial in range(trials):\n",
    "        env.reset()\n",
    "        cur_state=env.get_board()\n",
    "        \n",
    "        cur_state=cur_state.reshape(4,4)\n",
    "        stepno=0\n",
    "        \n",
    "        for step in range(trial_len):\n",
    "            stepno+=1\n",
    "            \n",
    "            action=dqn_agent.act(cur_state)\n",
    "            \n",
    "            _,reward,done,_=env.step(action)\n",
    "            new_state=env.get_board()\n",
    "            \n",
    "            dqn_agent.remember(cur_state,action,reward,new_state,done)\n",
    "            if step%10==0:\n",
    "                dqn_agent.replay()\n",
    "                dqn_agent.target_train()\n",
    "            \n",
    "            cur_agent=new_state\n",
    "            \n",
    "            if done:\n",
    "                \n",
    "                break\n",
    "        \n",
    "        if stepno<500:\n",
    "            \n",
    "            if env.highest()==2048:\n",
    "                print(\"Completed in --\",trial)\n",
    "                print(env.get_board())\n",
    "                max_tile.append(env.highest())\n",
    "\n",
    "                dqn_agent.save_model(\"success.model\")\n",
    "\n",
    "            \n",
    "            else:\n",
    "                print(f\"Trial number {trial} Failed to complete in 500 steps\")\n",
    "                print(env.get_board())\n",
    "                max_tile.append(env.highest())\n",
    "                if env.highest()>=512:\n",
    "                    dqn_agent.save_model(\"trial num-{}.model\".format(trial))\n",
    "                    \n",
    "        else:\n",
    "            print(f\"Failed to complete in 500 steps\")\n",
    "            print(env.get_board())\n",
    "            max_tile.append(env.highest())\n",
    "\n",
    "            \n",
    "if __name__ == \"__main__\":\n",
    "    main()  "
   ]
  },
  {
   "cell_type": "code",
   "execution_count": null,
   "metadata": {},
   "outputs": [],
   "source": [
    "trialnum=np.arange(1002)"
   ]
  },
  {
   "cell_type": "code",
   "execution_count": 33,
   "metadata": {},
   "outputs": [
    {
     "data": {
      "text/plain": [
       "[<matplotlib.lines.Line2D at 0x7f5b8db78450>]"
      ]
     },
     "execution_count": 33,
     "metadata": {},
     "output_type": "execute_result"
    },
    {
     "data": {
      "image/png": "[encoded data removed]",
      "text/plain": [
       "<Figure size 432x288 with 1 Axes>"
      ]
     },
     "metadata": {
      "needs_background": "light"
     },
     "output_type": "display_data"
    }
   ],
   "source": [
    "import matplotlib.pyplot as plt\n",
    "\n",
    "plt.plot(trialnum,max_tile)\n"
   ]
  }
 ],
 "metadata": {
  "kernelspec": {
   "display_name": "Python 3 (ipykernel)",
   "language": "python",
   "name": "python3"
  },
  "language_info": {
   "codemirror_mode": {
    "name": "ipython",
    "version": 3
   },
   "file_extension": ".py",
   "mimetype": "text/x-python",
   "name": "python",
   "nbconvert_exporter": "python",
   "pygments_lexer": "ipython3",
   "version": "3.8.12"
  }
 },
 "nbformat": 4,
 "nbformat_minor": 2
}
